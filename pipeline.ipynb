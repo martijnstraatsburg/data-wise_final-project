{
 "cells": [
  {
   "cell_type": "markdown",
   "metadata": {},
   "source": [
    "# Import Statements"
   ]
  },
  {
   "cell_type": "code",
   "execution_count": 2,
   "metadata": {},
   "outputs": [],
   "source": [
    "import pandas as pd\n",
    "import numpy as np\n",
    "from gensim.models import Word2Vec\n",
    "from transformers import BertTokenizer, BertModel, RobertaTokenizer, RobertaModel\n",
    "from torch.utils.data import DataLoader, Dataset\n",
    "import torch\n",
    "import glob"
   ]
  },
  {
   "cell_type": "markdown",
   "metadata": {},
   "source": [
    "# Preprocessing"
   ]
  },
  {
   "cell_type": "code",
   "execution_count": 3,
   "metadata": {},
   "outputs": [],
   "source": [
    "data = pd.read_csv(\"./data/CUBE_WEBANALYTICS_SEARCHES_202410101536.csv\")"
   ]
  },
  {
   "cell_type": "code",
   "execution_count": 4,
   "metadata": {},
   "outputs": [],
   "source": [
    "# Preprocessing\n",
    "data = data.drop_duplicates(subset=['SESSION_ID', 'SEARCH_TERM'])\n",
    "data = data[~data['SEARCH_TERM'].str.contains(r'http[s]?://|^ecli:', na=False)]\n",
    "data = data[~data['SEARCH_TERM'].str.contains(r'@', na=False)]\n",
    "data['SEARCH_TERM'] = (data['SEARCH_TERM']\n",
    "                       .str.replace(r'[\\t\\n\\\\\\\"(),]', '', regex=True)\n",
    "                       .str.replace(r'\\b(de|het|een|van|en|in|op|voor|bij|uit|ter|zake|terzake)\\b', '', regex=True)\n",
    "                       .str.replace(r'(\\b\\d{2})([/:])', r'20\\1\\2', regex=True)\n",
    "                       .str.replace(r'\\bartikel\\b', 'art.', regex=True)\n",
    "                       .str.replace(r'\\bart(?!\\.)\\b', 'art.', regex=True)\n",
    "                       .str.replace(r'\\bmet betrekking tot\\b', 'm.b.t.', regex=True)\n",
    "                       .str.replace(r'\\s+', ' ', regex=True)\n",
    "                       .str.strip())\n",
    "data.to_csv('./data/data.csv', index=False)"
   ]
  },
  {
   "cell_type": "code",
   "execution_count": 5,
   "metadata": {},
   "outputs": [],
   "source": [
    "df = pd.read_csv('./data/data.csv')\n",
    "search_terms = df['SEARCH_TERM'].astype(str).tolist()"
   ]
  },
  {
   "cell_type": "markdown",
   "metadata": {},
   "source": [
    "# Vectorization"
   ]
  },
  {
   "cell_type": "code",
   "execution_count": 6,
   "metadata": {},
   "outputs": [],
   "source": [
    "# WORD2VEC MODEL\n",
    "# Model and Vectorization\n",
    "model = Word2Vec(sentences=search_terms, vector_size=100, window=5, min_count=1, workers=4)\n",
    "model.save('./model/model_word2vec.model')\n",
    "word2vec_vectors = [np.mean([model.wv[token] for token in tokens if token in model.wv.key_to_index], axis=0) if tokens else np.zeros(model.vector_size) for tokens in search_terms]\n",
    "\n",
    "# Save Vectors\n",
    "df_vectors = pd.DataFrame(word2vec_vectors)\n",
    "df_vectors.to_csv('./data/word2vec_vectors.csv', index=False)\n",
    "word2vec_df = df_vectors"
   ]
  },
  {
   "cell_type": "code",
   "execution_count": null,
   "metadata": {},
   "outputs": [],
   "source": [
    "# BERT\n",
    "# Define a Dataset class for efficient batching\n",
    "class SearchTermDataset(Dataset):\n",
    "    def __init__(self, terms):\n",
    "        self.terms = terms\n",
    "\n",
    "    def __len__(self):\n",
    "        return len(self.terms)\n",
    "\n",
    "    def __getitem__(self, idx):\n",
    "        return self.terms[idx]\n",
    "\n",
    "# Create Dataset and DataLoader\n",
    "dataset = SearchTermDataset(search_terms)\n",
    "batch_size = 100\n",
    "dataloader = DataLoader(dataset, batch_size=batch_size, shuffle=False)\n",
    "\n",
    "# Load pre-trained BERT model and tokenizer\n",
    "tokenizer = BertTokenizer.from_pretrained('bert-base-uncased')\n",
    "model = BertModel.from_pretrained('bert-base-uncased').cuda()  # Ensure model is on GPU\n",
    "\n",
    "# Function to process and save vectors incrementally\n",
    "def process_and_save_vectors(dataloader, tokenizer, model, output_prefix=\"bert_vectors\"):\n",
    "    model.eval()\n",
    "    all_vectors = []\n",
    "    for batch_idx, batch in enumerate(dataloader):\n",
    "        # Tokenize batch\n",
    "        encoded_input = tokenizer(batch, padding=True, truncation=True, return_tensors='pt')\n",
    "        encoded_input = {key: val.cuda() for key, val in encoded_input.items()}  # Move to GPU\n",
    "\n",
    "        # Process batch through BERT\n",
    "        with torch.no_grad():\n",
    "            model_output = model(**encoded_input)\n",
    "        batch_vectors = model_output.last_hidden_state[:, 0, :].cpu().numpy()  # CLS token\n",
    "\n",
    "        # Save batch to disk\n",
    "        batch_df = pd.DataFrame(batch_vectors)\n",
    "        batch_df.to_csv(f\"{output_prefix}_batch_{batch_idx}.csv\", index=False)\n",
    "\n",
    "        # Optional: Append to all_vectors if in-memory collection is needed\n",
    "        all_vectors.append(batch_vectors)\n",
    "\n",
    "        # Clear GPU memory\n",
    "        torch.cuda.empty_cache()\n",
    "\n",
    "    # Combine all vectors into one DataFrame if needed\n",
    "    return np.vstack(all_vectors) if all_vectors else None\n",
    "\n",
    "# Process data and save vectors\n",
    "process_and_save_vectors(dataloader, tokenizer, model)\n",
    "\n",
    "# Path to the batch CSV files\n",
    "batch_files = glob.glob(\"bert_vectors_batch_*.csv\")\n",
    "\n",
    "# Sort files numerically by their batch number\n",
    "batch_files.sort(key=lambda x: int(x.split('_')[-1].split('.')[0]))\n",
    "\n",
    "# Read and concatenate all batch files\n",
    "all_data = pd.concat((pd.read_csv(file) for file in batch_files), ignore_index=True)\n",
    "\n",
    "# Save the combined DataFrame to a single CSV file\n",
    "all_data.to_csv(\"./data/bert_vectors.csv\", index=False)\n",
    "\n",
    "print(\"All files have been combined into 'bert_vectors.csv'.\")"
   ]
  },
  {
   "cell_type": "code",
   "execution_count": null,
   "metadata": {},
   "outputs": [
    {
     "name": "stderr",
     "output_type": "stream",
     "text": [
      "Some weights of RobertaModel were not initialized from the model checkpoint at pdelobelle/robbert-v2-dutch-base and are newly initialized: ['roberta.pooler.dense.bias', 'roberta.pooler.dense.weight']\n",
      "You should probably TRAIN this model on a down-stream task to be able to use it for predictions and inference.\n"
     ]
    }
   ],
   "source": [
    "# ROBBERT\n",
    "# Define a Dataset class for efficient batching\n",
    "class SearchTermDataset(Dataset):\n",
    "    def __init__(self, terms):\n",
    "        self.terms = terms\n",
    "\n",
    "    def __len__(self):\n",
    "        return len(self.terms)\n",
    "\n",
    "    def __getitem__(self, idx):\n",
    "        return self.terms[idx]\n",
    "\n",
    "# Create Dataset and DataLoader\n",
    "dataset = SearchTermDataset(search_terms)\n",
    "batch_size = 100\n",
    "dataloader = DataLoader(dataset, batch_size=batch_size, shuffle=False)\n",
    "\n",
    "# Load pre-trained BERT model and tokenizer\n",
    "tokenizer = RobertaTokenizer.from_pretrained('pdelobelle/robbert-v2-dutch-base')\n",
    "model = RobertaModel.from_pretrained('pdelobelle/robbert-v2-dutch-base').cuda()  # Ensure model is on GPU\n",
    "\n",
    "# Function to process and save vectors incrementally\n",
    "def process_and_save_vectors(dataloader, tokenizer, model, output_prefix=\"robbert_vectors\"):\n",
    "    model.eval()\n",
    "    all_vectors = []\n",
    "    for batch_idx, batch in enumerate(dataloader):\n",
    "        # Tokenize batch\n",
    "        encoded_input = tokenizer(batch, padding=True, truncation=True, return_tensors='pt')\n",
    "        encoded_input = {key: val.cuda() for key, val in encoded_input.items()}  # Move to GPU\n",
    "\n",
    "        # Process batch through BERT\n",
    "        with torch.no_grad():\n",
    "            model_output = model(**encoded_input)\n",
    "        batch_vectors = model_output.last_hidden_state[:, 0, :].cpu().numpy()  # CLS token\n",
    "\n",
    "        # Save batch to disk\n",
    "        batch_df = pd.DataFrame(batch_vectors)\n",
    "        batch_df.to_csv(f\"{output_prefix}_batch_{batch_idx}.csv\", index=False)\n",
    "\n",
    "        # Optional: Append to all_vectors if in-memory collection is needed\n",
    "        all_vectors.append(batch_vectors)\n",
    "\n",
    "        # Clear GPU memory\n",
    "        torch.cuda.empty_cache()\n",
    "\n",
    "    # Combine all vectors into one DataFrame if needed\n",
    "    return np.vstack(all_vectors) if all_vectors else None\n",
    "\n",
    "# Process data and save vectors\n",
    "process_and_save_vectors(dataloader, tokenizer, model)\n",
    "\n",
    "# Path to the batch CSV files\n",
    "batch_files = glob.glob(\"robbert_vectors_batch_*.csv\")\n",
    "\n",
    "# Sort files numerically by their batch number\n",
    "batch_files.sort(key=lambda x: int(x.split('_')[-1].split('.')[0]))\n",
    "\n",
    "# Read and concatenate all batch files\n",
    "all_data = pd.concat((pd.read_csv(file) for file in batch_files), ignore_index=True)\n",
    "\n",
    "# Save the combined DataFrame to a single CSV file\n",
    "all_data.to_csv(\"./data/robbert_vectors.csv\", index=False)\n",
    "\n",
    "print(\"All files have been combined into 'robbert_vectors.csv'.\")"
   ]
  },
  {
   "cell_type": "markdown",
   "metadata": {},
   "source": [
    "# Clustering & Topic Modelling"
   ]
  },
  {
   "cell_type": "code",
   "execution_count": null,
   "metadata": {},
   "outputs": [],
   "source": []
  }
 ],
 "metadata": {
  "kernelspec": {
   "display_name": "laptopgpu",
   "language": "python",
   "name": "python3"
  },
  "language_info": {
   "codemirror_mode": {
    "name": "ipython",
    "version": 3
   },
   "file_extension": ".py",
   "mimetype": "text/x-python",
   "name": "python",
   "nbconvert_exporter": "python",
   "pygments_lexer": "ipython3",
   "version": "3.8.19"
  }
 },
 "nbformat": 4,
 "nbformat_minor": 2
}
